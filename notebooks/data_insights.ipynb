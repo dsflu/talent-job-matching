{
 "cells": [
  {
   "cell_type": "markdown",
   "id": "e6a5e5c4-a5e5-4785-b407-58852e41764a",
   "metadata": {},
   "source": [
    "In this notebook, I am trying to:\n",
    "1. do some basic raw data exploration, checking distribution, sanity checking, etc\n",
    "2. basic feature transformation and analysis\n",
    "3. feature correlation with labels\n",
    "\n",
    "These steps will save a lot of time for later feature engineering and model development (feature selection, etc)"
   ]
  },
  {
   "cell_type": "code",
   "execution_count": 14,
   "id": "00dc372e-7f7f-4f48-909c-809e0c14af5a",
   "metadata": {},
   "outputs": [],
   "source": [
    "import pandas as pd\n",
    "import dotenv\n",
    "import os\n",
    "\n",
    "import json"
   ]
  },
  {
   "cell_type": "markdown",
   "id": "79d950df-110f-4824-844d-b82744979355",
   "metadata": {},
   "source": [
    "# 1. load raw data\n",
    "\n",
    ">I did not include the raw data in this repo (since it is publicly accessible).\n",
    ">\n",
    ">If you want to re-run the notebook, please set your own `.env` file and add your data path to `RAW_DATA_PATH` (or provide the path directly here)"
   ]
  },
  {
   "cell_type": "code",
   "execution_count": 5,
   "id": "da74d6bf-2afa-4c14-aff1-4eaa03419aa6",
   "metadata": {},
   "outputs": [],
   "source": [
    "dotenv.load_dotenv('.env')\n",
    "raw_data_path = os.getenv('RAW_DATA_PATH')"
   ]
  },
  {
   "cell_type": "code",
   "execution_count": 19,
   "id": "b05ca383-e17f-4abf-9285-ffccf1726904",
   "metadata": {},
   "outputs": [],
   "source": [
    "with open(raw_data_path, 'r') as file:\n",
    "    raw_data_json = json.load(file)\n",
    "\n",
    "raw_data = pd.json_normalize(raw_data_json)"
   ]
  },
  {
   "cell_type": "code",
   "execution_count": 20,
   "id": "9754978b-a1c4-4b97-ba1b-2b2c3935aef1",
   "metadata": {},
   "outputs": [
    {
     "data": {
      "text/plain": [
       "(2000, 11)"
      ]
     },
     "execution_count": 20,
     "metadata": {},
     "output_type": "execute_result"
    }
   ],
   "source": [
    "raw_data.shape"
   ]
  },
  {
   "cell_type": "code",
   "execution_count": 21,
   "id": "5784b8ce-9605-4693-939e-cecc62742144",
   "metadata": {},
   "outputs": [
    {
     "data": {
      "text/html": [
       "<div>\n",
       "<style scoped>\n",
       "    .dataframe tbody tr th:only-of-type {\n",
       "        vertical-align: middle;\n",
       "    }\n",
       "\n",
       "    .dataframe tbody tr th {\n",
       "        vertical-align: top;\n",
       "    }\n",
       "\n",
       "    .dataframe thead th {\n",
       "        text-align: right;\n",
       "    }\n",
       "</style>\n",
       "<table border=\"1\" class=\"dataframe\">\n",
       "  <thead>\n",
       "    <tr style=\"text-align: right;\">\n",
       "      <th></th>\n",
       "      <th>label</th>\n",
       "      <th>talent.languages</th>\n",
       "      <th>talent.job_roles</th>\n",
       "      <th>talent.seniority</th>\n",
       "      <th>talent.salary_expectation</th>\n",
       "      <th>talent.degree</th>\n",
       "      <th>job.languages</th>\n",
       "      <th>job.job_roles</th>\n",
       "      <th>job.seniorities</th>\n",
       "      <th>job.max_salary</th>\n",
       "      <th>job.min_degree</th>\n",
       "    </tr>\n",
       "  </thead>\n",
       "  <tbody>\n",
       "    <tr>\n",
       "      <th>0</th>\n",
       "      <td>True</td>\n",
       "      <td>[{'rating': 'C2', 'title': 'German'}, {'rating...</td>\n",
       "      <td>[frontend-developer, backend-developer, full-s...</td>\n",
       "      <td>junior</td>\n",
       "      <td>48000</td>\n",
       "      <td>bachelor</td>\n",
       "      <td>[{'title': 'German', 'rating': 'C1', 'must_hav...</td>\n",
       "      <td>[frontend-developer]</td>\n",
       "      <td>[junior, midlevel]</td>\n",
       "      <td>70000</td>\n",
       "      <td>none</td>\n",
       "    </tr>\n",
       "    <tr>\n",
       "      <th>1</th>\n",
       "      <td>True</td>\n",
       "      <td>[{'rating': 'C2', 'title': 'German'}, {'rating...</td>\n",
       "      <td>[frontend-developer, full-stack-developer, c-c...</td>\n",
       "      <td>junior</td>\n",
       "      <td>44000</td>\n",
       "      <td>master</td>\n",
       "      <td>[{'title': 'German', 'rating': 'C1', 'must_hav...</td>\n",
       "      <td>[frontend-developer]</td>\n",
       "      <td>[junior, midlevel]</td>\n",
       "      <td>70000</td>\n",
       "      <td>none</td>\n",
       "    </tr>\n",
       "    <tr>\n",
       "      <th>2</th>\n",
       "      <td>True</td>\n",
       "      <td>[{'rating': 'C2', 'title': 'English'}, {'ratin...</td>\n",
       "      <td>[frontend-developer, backend-developer, php-de...</td>\n",
       "      <td>senior</td>\n",
       "      <td>40000</td>\n",
       "      <td>none</td>\n",
       "      <td>[{'title': 'German', 'rating': 'C1', 'must_hav...</td>\n",
       "      <td>[php-developer]</td>\n",
       "      <td>[midlevel, senior]</td>\n",
       "      <td>65000</td>\n",
       "      <td>none</td>\n",
       "    </tr>\n",
       "    <tr>\n",
       "      <th>3</th>\n",
       "      <td>True</td>\n",
       "      <td>[{'rating': 'C2', 'title': 'German'}, {'rating...</td>\n",
       "      <td>[frontend-developer, backend-developer, full-s...</td>\n",
       "      <td>junior</td>\n",
       "      <td>46000</td>\n",
       "      <td>apprenticeship</td>\n",
       "      <td>[{'title': 'German', 'rating': 'C1', 'must_hav...</td>\n",
       "      <td>[frontend-developer]</td>\n",
       "      <td>[junior, midlevel]</td>\n",
       "      <td>70000</td>\n",
       "      <td>none</td>\n",
       "    </tr>\n",
       "    <tr>\n",
       "      <th>4</th>\n",
       "      <td>True</td>\n",
       "      <td>[{'rating': 'C2', 'title': 'German'}, {'rating...</td>\n",
       "      <td>[devops-engineer, frontend-developer, backend-...</td>\n",
       "      <td>midlevel</td>\n",
       "      <td>75000</td>\n",
       "      <td>master</td>\n",
       "      <td>[{'title': 'German', 'rating': 'C1', 'must_hav...</td>\n",
       "      <td>[backend-developer, full-stack-developer]</td>\n",
       "      <td>[midlevel]</td>\n",
       "      <td>80000</td>\n",
       "      <td>bachelor</td>\n",
       "    </tr>\n",
       "  </tbody>\n",
       "</table>\n",
       "</div>"
      ],
      "text/plain": [
       "   label                                   talent.languages  \\\n",
       "0   True  [{'rating': 'C2', 'title': 'German'}, {'rating...   \n",
       "1   True  [{'rating': 'C2', 'title': 'German'}, {'rating...   \n",
       "2   True  [{'rating': 'C2', 'title': 'English'}, {'ratin...   \n",
       "3   True  [{'rating': 'C2', 'title': 'German'}, {'rating...   \n",
       "4   True  [{'rating': 'C2', 'title': 'German'}, {'rating...   \n",
       "\n",
       "                                    talent.job_roles talent.seniority  \\\n",
       "0  [frontend-developer, backend-developer, full-s...           junior   \n",
       "1  [frontend-developer, full-stack-developer, c-c...           junior   \n",
       "2  [frontend-developer, backend-developer, php-de...           senior   \n",
       "3  [frontend-developer, backend-developer, full-s...           junior   \n",
       "4  [devops-engineer, frontend-developer, backend-...         midlevel   \n",
       "\n",
       "   talent.salary_expectation   talent.degree  \\\n",
       "0                      48000        bachelor   \n",
       "1                      44000          master   \n",
       "2                      40000            none   \n",
       "3                      46000  apprenticeship   \n",
       "4                      75000          master   \n",
       "\n",
       "                                       job.languages  \\\n",
       "0  [{'title': 'German', 'rating': 'C1', 'must_hav...   \n",
       "1  [{'title': 'German', 'rating': 'C1', 'must_hav...   \n",
       "2  [{'title': 'German', 'rating': 'C1', 'must_hav...   \n",
       "3  [{'title': 'German', 'rating': 'C1', 'must_hav...   \n",
       "4  [{'title': 'German', 'rating': 'C1', 'must_hav...   \n",
       "\n",
       "                               job.job_roles     job.seniorities  \\\n",
       "0                       [frontend-developer]  [junior, midlevel]   \n",
       "1                       [frontend-developer]  [junior, midlevel]   \n",
       "2                            [php-developer]  [midlevel, senior]   \n",
       "3                       [frontend-developer]  [junior, midlevel]   \n",
       "4  [backend-developer, full-stack-developer]          [midlevel]   \n",
       "\n",
       "   job.max_salary job.min_degree  \n",
       "0           70000           none  \n",
       "1           70000           none  \n",
       "2           65000           none  \n",
       "3           70000           none  \n",
       "4           80000       bachelor  "
      ]
     },
     "execution_count": 21,
     "metadata": {},
     "output_type": "execute_result"
    }
   ],
   "source": [
    "raw_data.head()"
   ]
  },
  {
   "cell_type": "markdown",
   "id": "2a7664a6-1eb3-4864-9417-1b7a7c8f6364",
   "metadata": {},
   "source": [
    "# 2. label and original feature sanity check\n",
    "\n",
    "After checking, i think this dataset itself is reletively clean except some missing values (not that many string data or outliers to deal with).\n",
    "\n",
    "So there are not that many data cleaning steps we need to perform."
   ]
  },
  {
   "cell_type": "code",
   "execution_count": 24,
   "id": "f2ee14a5-236a-4c22-9888-e00bdc7abdc6",
   "metadata": {},
   "outputs": [
    {
     "data": {
      "text/plain": [
       "label\n",
       "True     1000\n",
       "False    1000\n",
       "Name: count, dtype: int64"
      ]
     },
     "execution_count": 24,
     "metadata": {},
     "output_type": "execute_result"
    }
   ],
   "source": [
    "# check label distribution, looks balanced\n",
    "raw_data['label'].value_counts()"
   ]
  },
  {
   "cell_type": "code",
   "execution_count": 37,
   "id": "c272c8f8-86ee-4b6f-ae10-16a2bd5cd3fd",
   "metadata": {},
   "outputs": [
    {
     "data": {
      "text/html": [
       "<div>\n",
       "<style scoped>\n",
       "    .dataframe tbody tr th:only-of-type {\n",
       "        vertical-align: middle;\n",
       "    }\n",
       "\n",
       "    .dataframe tbody tr th {\n",
       "        vertical-align: top;\n",
       "    }\n",
       "\n",
       "    .dataframe thead th {\n",
       "        text-align: right;\n",
       "    }\n",
       "</style>\n",
       "<table border=\"1\" class=\"dataframe\">\n",
       "  <thead>\n",
       "    <tr style=\"text-align: right;\">\n",
       "      <th></th>\n",
       "      <th>label</th>\n",
       "      <th>talent.languages</th>\n",
       "      <th>talent.job_roles</th>\n",
       "      <th>talent.seniority</th>\n",
       "      <th>talent.salary_expectation</th>\n",
       "      <th>talent.degree</th>\n",
       "      <th>job.languages</th>\n",
       "      <th>job.job_roles</th>\n",
       "      <th>job.seniorities</th>\n",
       "      <th>job.max_salary</th>\n",
       "      <th>job.min_degree</th>\n",
       "    </tr>\n",
       "  </thead>\n",
       "  <tbody>\n",
       "    <tr>\n",
       "      <th>count</th>\n",
       "      <td>2000</td>\n",
       "      <td>2000</td>\n",
       "      <td>2000</td>\n",
       "      <td>2000</td>\n",
       "      <td>2000.0</td>\n",
       "      <td>2000</td>\n",
       "      <td>2000</td>\n",
       "      <td>2000</td>\n",
       "      <td>2000</td>\n",
       "      <td>2000.0</td>\n",
       "      <td>2000</td>\n",
       "    </tr>\n",
       "    <tr>\n",
       "      <th>unique</th>\n",
       "      <td>2</td>\n",
       "      <td>736</td>\n",
       "      <td>1367</td>\n",
       "      <td>4</td>\n",
       "      <td>NaN</td>\n",
       "      <td>5</td>\n",
       "      <td>22</td>\n",
       "      <td>35</td>\n",
       "      <td>28</td>\n",
       "      <td>NaN</td>\n",
       "      <td>5</td>\n",
       "    </tr>\n",
       "    <tr>\n",
       "      <th>top</th>\n",
       "      <td>True</td>\n",
       "      <td>[{'rating': 'C2', 'title': 'German'}, {'rating...</td>\n",
       "      <td>[frontend-developer]</td>\n",
       "      <td>midlevel</td>\n",
       "      <td>NaN</td>\n",
       "      <td>bachelor</td>\n",
       "      <td>[{'title': 'German', 'rating': 'C1', 'must_hav...</td>\n",
       "      <td>[frontend-developer]</td>\n",
       "      <td>[junior, midlevel]</td>\n",
       "      <td>NaN</td>\n",
       "      <td>none</td>\n",
       "    </tr>\n",
       "    <tr>\n",
       "      <th>freq</th>\n",
       "      <td>1000</td>\n",
       "      <td>286</td>\n",
       "      <td>45</td>\n",
       "      <td>625</td>\n",
       "      <td>NaN</td>\n",
       "      <td>644</td>\n",
       "      <td>525</td>\n",
       "      <td>544</td>\n",
       "      <td>541</td>\n",
       "      <td>NaN</td>\n",
       "      <td>899</td>\n",
       "    </tr>\n",
       "    <tr>\n",
       "      <th>min</th>\n",
       "      <td>NaN</td>\n",
       "      <td>NaN</td>\n",
       "      <td>NaN</td>\n",
       "      <td>NaN</td>\n",
       "      <td>25000.0</td>\n",
       "      <td>NaN</td>\n",
       "      <td>NaN</td>\n",
       "      <td>NaN</td>\n",
       "      <td>NaN</td>\n",
       "      <td>45000.0</td>\n",
       "      <td>NaN</td>\n",
       "    </tr>\n",
       "    <tr>\n",
       "      <th>max</th>\n",
       "      <td>NaN</td>\n",
       "      <td>NaN</td>\n",
       "      <td>NaN</td>\n",
       "      <td>NaN</td>\n",
       "      <td>137080.0</td>\n",
       "      <td>NaN</td>\n",
       "      <td>NaN</td>\n",
       "      <td>NaN</td>\n",
       "      <td>NaN</td>\n",
       "      <td>100000.0</td>\n",
       "      <td>NaN</td>\n",
       "    </tr>\n",
       "    <tr>\n",
       "      <th>none_count</th>\n",
       "      <td>0</td>\n",
       "      <td>0</td>\n",
       "      <td>0</td>\n",
       "      <td>339</td>\n",
       "      <td>0.0</td>\n",
       "      <td>453</td>\n",
       "      <td>0</td>\n",
       "      <td>0</td>\n",
       "      <td>0</td>\n",
       "      <td>0.0</td>\n",
       "      <td>899</td>\n",
       "    </tr>\n",
       "  </tbody>\n",
       "</table>\n",
       "</div>"
      ],
      "text/plain": [
       "           label                                   talent.languages  \\\n",
       "count       2000                                               2000   \n",
       "unique         2                                                736   \n",
       "top         True  [{'rating': 'C2', 'title': 'German'}, {'rating...   \n",
       "freq        1000                                                286   \n",
       "min          NaN                                                NaN   \n",
       "max          NaN                                                NaN   \n",
       "none_count     0                                                  0   \n",
       "\n",
       "                talent.job_roles talent.seniority  talent.salary_expectation  \\\n",
       "count                       2000             2000                     2000.0   \n",
       "unique                      1367                4                        NaN   \n",
       "top         [frontend-developer]         midlevel                        NaN   \n",
       "freq                          45              625                        NaN   \n",
       "min                          NaN              NaN                    25000.0   \n",
       "max                          NaN              NaN                   137080.0   \n",
       "none_count                     0              339                        0.0   \n",
       "\n",
       "           talent.degree                                      job.languages  \\\n",
       "count               2000                                               2000   \n",
       "unique                 5                                                 22   \n",
       "top             bachelor  [{'title': 'German', 'rating': 'C1', 'must_hav...   \n",
       "freq                 644                                                525   \n",
       "min                  NaN                                                NaN   \n",
       "max                  NaN                                                NaN   \n",
       "none_count           453                                                  0   \n",
       "\n",
       "                   job.job_roles     job.seniorities  job.max_salary  \\\n",
       "count                       2000                2000          2000.0   \n",
       "unique                        35                  28             NaN   \n",
       "top         [frontend-developer]  [junior, midlevel]             NaN   \n",
       "freq                         544                 541             NaN   \n",
       "min                          NaN                 NaN         45000.0   \n",
       "max                          NaN                 NaN        100000.0   \n",
       "none_count                     0                   0             0.0   \n",
       "\n",
       "           job.min_degree  \n",
       "count                2000  \n",
       "unique                  5  \n",
       "top                  none  \n",
       "freq                  899  \n",
       "min                   NaN  \n",
       "max                   NaN  \n",
       "none_count            899  "
      ]
     },
     "execution_count": 37,
     "metadata": {},
     "output_type": "execute_result"
    }
   ],
   "source": [
    "# do some general sanity checking on data\n",
    "# 1. we see some data missing on talent seniority, talent degree, and job degree, but overall looks good\n",
    "# 2. salary range (max and min) from both talent and job side looks reasonable, no obvious outliers\n",
    "\n",
    "description = raw_data.describe(include='all')\n",
    "selected_stats = description.loc[['count', 'unique', 'top', 'freq', 'min', 'max']]\n",
    "\n",
    "# add none count for each column\n",
    "none_count = (raw_data == 'none').sum()\n",
    "none_count.name = 'none_count'\n",
    "selected_stats = pd.concat([selected_stats, none_count.to_frame().T])\n",
    "selected_stats"
   ]
  },
  {
   "cell_type": "markdown",
   "id": "e8313e00-e640-49d8-8fb7-8a9392b581d3",
   "metadata": {},
   "source": [
    "# 3. simple talent-job intersection feature transformation and sanity check on the transformed features\n",
    "\n",
    "These features represent whether a talent's languages, job_roles, seniority, salary expectations, and, degree are within the requirements from the job side.\n",
    "\n",
    "The benefit of having those features is that, with these features, you can even build a very basic rule based talent matching system as your baseline model.\n",
    "\n",
    "Later on, we will also try to measure how good this system is. (it can also be possible that even some of the requirements are not met, the talent is still a good match to a job)\n",
    "\n",
    "These features will also be part of the feature sets in our later ML model."
   ]
  },
  {
   "cell_type": "code",
   "execution_count": 39,
   "id": "781b4f27-5bc2-4793-8531-a06813c699e0",
   "metadata": {},
   "outputs": [
    {
     "data": {
      "text/html": [
       "<div>\n",
       "<style scoped>\n",
       "    .dataframe tbody tr th:only-of-type {\n",
       "        vertical-align: middle;\n",
       "    }\n",
       "\n",
       "    .dataframe tbody tr th {\n",
       "        vertical-align: top;\n",
       "    }\n",
       "\n",
       "    .dataframe thead th {\n",
       "        text-align: right;\n",
       "    }\n",
       "</style>\n",
       "<table border=\"1\" class=\"dataframe\">\n",
       "  <thead>\n",
       "    <tr style=\"text-align: right;\">\n",
       "      <th></th>\n",
       "      <th>label</th>\n",
       "      <th>talent.languages</th>\n",
       "      <th>talent.job_roles</th>\n",
       "      <th>talent.seniority</th>\n",
       "      <th>talent.salary_expectation</th>\n",
       "      <th>talent.degree</th>\n",
       "      <th>job.languages</th>\n",
       "      <th>job.job_roles</th>\n",
       "      <th>job.seniorities</th>\n",
       "      <th>job.max_salary</th>\n",
       "      <th>job.min_degree</th>\n",
       "    </tr>\n",
       "  </thead>\n",
       "  <tbody>\n",
       "    <tr>\n",
       "      <th>0</th>\n",
       "      <td>True</td>\n",
       "      <td>[{'rating': 'C2', 'title': 'German'}, {'rating...</td>\n",
       "      <td>[frontend-developer, backend-developer, full-s...</td>\n",
       "      <td>junior</td>\n",
       "      <td>48000</td>\n",
       "      <td>bachelor</td>\n",
       "      <td>[{'title': 'German', 'rating': 'C1', 'must_hav...</td>\n",
       "      <td>[frontend-developer]</td>\n",
       "      <td>[junior, midlevel]</td>\n",
       "      <td>70000</td>\n",
       "      <td>none</td>\n",
       "    </tr>\n",
       "    <tr>\n",
       "      <th>1</th>\n",
       "      <td>True</td>\n",
       "      <td>[{'rating': 'C2', 'title': 'German'}, {'rating...</td>\n",
       "      <td>[frontend-developer, full-stack-developer, c-c...</td>\n",
       "      <td>junior</td>\n",
       "      <td>44000</td>\n",
       "      <td>master</td>\n",
       "      <td>[{'title': 'German', 'rating': 'C1', 'must_hav...</td>\n",
       "      <td>[frontend-developer]</td>\n",
       "      <td>[junior, midlevel]</td>\n",
       "      <td>70000</td>\n",
       "      <td>none</td>\n",
       "    </tr>\n",
       "    <tr>\n",
       "      <th>2</th>\n",
       "      <td>True</td>\n",
       "      <td>[{'rating': 'C2', 'title': 'English'}, {'ratin...</td>\n",
       "      <td>[frontend-developer, backend-developer, php-de...</td>\n",
       "      <td>senior</td>\n",
       "      <td>40000</td>\n",
       "      <td>none</td>\n",
       "      <td>[{'title': 'German', 'rating': 'C1', 'must_hav...</td>\n",
       "      <td>[php-developer]</td>\n",
       "      <td>[midlevel, senior]</td>\n",
       "      <td>65000</td>\n",
       "      <td>none</td>\n",
       "    </tr>\n",
       "    <tr>\n",
       "      <th>3</th>\n",
       "      <td>True</td>\n",
       "      <td>[{'rating': 'C2', 'title': 'German'}, {'rating...</td>\n",
       "      <td>[frontend-developer, backend-developer, full-s...</td>\n",
       "      <td>junior</td>\n",
       "      <td>46000</td>\n",
       "      <td>apprenticeship</td>\n",
       "      <td>[{'title': 'German', 'rating': 'C1', 'must_hav...</td>\n",
       "      <td>[frontend-developer]</td>\n",
       "      <td>[junior, midlevel]</td>\n",
       "      <td>70000</td>\n",
       "      <td>none</td>\n",
       "    </tr>\n",
       "    <tr>\n",
       "      <th>4</th>\n",
       "      <td>True</td>\n",
       "      <td>[{'rating': 'C2', 'title': 'German'}, {'rating...</td>\n",
       "      <td>[devops-engineer, frontend-developer, backend-...</td>\n",
       "      <td>midlevel</td>\n",
       "      <td>75000</td>\n",
       "      <td>master</td>\n",
       "      <td>[{'title': 'German', 'rating': 'C1', 'must_hav...</td>\n",
       "      <td>[backend-developer, full-stack-developer]</td>\n",
       "      <td>[midlevel]</td>\n",
       "      <td>80000</td>\n",
       "      <td>bachelor</td>\n",
       "    </tr>\n",
       "  </tbody>\n",
       "</table>\n",
       "</div>"
      ],
      "text/plain": [
       "   label                                   talent.languages  \\\n",
       "0   True  [{'rating': 'C2', 'title': 'German'}, {'rating...   \n",
       "1   True  [{'rating': 'C2', 'title': 'German'}, {'rating...   \n",
       "2   True  [{'rating': 'C2', 'title': 'English'}, {'ratin...   \n",
       "3   True  [{'rating': 'C2', 'title': 'German'}, {'rating...   \n",
       "4   True  [{'rating': 'C2', 'title': 'German'}, {'rating...   \n",
       "\n",
       "                                    talent.job_roles talent.seniority  \\\n",
       "0  [frontend-developer, backend-developer, full-s...           junior   \n",
       "1  [frontend-developer, full-stack-developer, c-c...           junior   \n",
       "2  [frontend-developer, backend-developer, php-de...           senior   \n",
       "3  [frontend-developer, backend-developer, full-s...           junior   \n",
       "4  [devops-engineer, frontend-developer, backend-...         midlevel   \n",
       "\n",
       "   talent.salary_expectation   talent.degree  \\\n",
       "0                      48000        bachelor   \n",
       "1                      44000          master   \n",
       "2                      40000            none   \n",
       "3                      46000  apprenticeship   \n",
       "4                      75000          master   \n",
       "\n",
       "                                       job.languages  \\\n",
       "0  [{'title': 'German', 'rating': 'C1', 'must_hav...   \n",
       "1  [{'title': 'German', 'rating': 'C1', 'must_hav...   \n",
       "2  [{'title': 'German', 'rating': 'C1', 'must_hav...   \n",
       "3  [{'title': 'German', 'rating': 'C1', 'must_hav...   \n",
       "4  [{'title': 'German', 'rating': 'C1', 'must_hav...   \n",
       "\n",
       "                               job.job_roles     job.seniorities  \\\n",
       "0                       [frontend-developer]  [junior, midlevel]   \n",
       "1                       [frontend-developer]  [junior, midlevel]   \n",
       "2                            [php-developer]  [midlevel, senior]   \n",
       "3                       [frontend-developer]  [junior, midlevel]   \n",
       "4  [backend-developer, full-stack-developer]          [midlevel]   \n",
       "\n",
       "   job.max_salary job.min_degree  \n",
       "0           70000           none  \n",
       "1           70000           none  \n",
       "2           65000           none  \n",
       "3           70000           none  \n",
       "4           80000       bachelor  "
      ]
     },
     "execution_count": 39,
     "metadata": {},
     "output_type": "execute_result"
    }
   ],
   "source": [
    "raw_data.head()"
   ]
  },
  {
   "cell_type": "markdown",
   "id": "9ece8823-7eab-45a9-8ade-a78755e64bc4",
   "metadata": {},
   "source": [
    "## 3.1 salary features"
   ]
  },
  {
   "cell_type": "code",
   "execution_count": 52,
   "id": "ed5fd66d-09ca-4362-bc05-28fd1d654c94",
   "metadata": {},
   "outputs": [],
   "source": [
    "# salary_match_binary and salary_diff\n",
    "# see whether talent's expected salary is below the max salary from the job side and the +- difference of them\n",
    "raw_data_transformed = raw_data.assign(\n",
    "    salary_match_binary=lambda df: df['talent.salary_expectation'] <= df['job.max_salary'],\n",
    "    salary_diff=lambda df: df['job.max_salary'] - df['talent.salary_expectation']\n",
    ")"
   ]
  },
  {
   "cell_type": "code",
   "execution_count": 69,
   "id": "a6f1e38e-a041-44b4-a2d9-0c773e2260d3",
   "metadata": {},
   "outputs": [
    {
     "data": {
      "text/plain": [
       "salary_match_binary  label\n",
       "False                False    0.780000\n",
       "                     True     0.220000\n",
       "True                 True     0.706957\n",
       "                     False    0.293043\n",
       "Name: proportion, dtype: float64"
      ]
     },
     "execution_count": 69,
     "metadata": {},
     "output_type": "execute_result"
    }
   ],
   "source": [
    "# roughly check distribution\n",
    "raw_data_transformed.groupby('salary_match_binary')['label'].value_counts(normalize=True)"
   ]
  },
  {
   "cell_type": "code",
   "execution_count": 92,
   "id": "f15cc866-3936-49c6-bd99-5cc70f478c4c",
   "metadata": {},
   "outputs": [],
   "source": [
    "# salary_bins: sometimes it does not matter that much between 80k and 81k, i want to normalize the salary to a few bins\n",
    "salary_bins = [0, 50000, 60000, 70000, 80000, 90000, 100000, 110000, 120000, float('inf')]\n",
    "salary_labels = [1, 2, 3, 4, 5, 6, 7, 8, 9]\n",
    "\n",
    "raw_data_transformed = raw_data_transformed.assign(\n",
    "    talent_salary_bin=lambda df: pd.cut(df['talent.salary_expectation'], bins=salary_bins, labels=salary_labels, right=False),\n",
    "    job_max_salary_bin=lambda df: pd.cut(df['job.max_salary'], bins=salary_bins, labels=salary_labels, right=False)\n",
    ")"
   ]
  },
  {
   "cell_type": "code",
   "execution_count": 102,
   "id": "458b6eb3-9b80-4370-a673-cf2493ddc106",
   "metadata": {},
   "outputs": [
    {
     "data": {
      "text/plain": [
       "<Axes: xlabel='talent_salary_bin'>"
      ]
     },
     "execution_count": 102,
     "metadata": {},
     "output_type": "execute_result"
    },
    {
     "data": {
      "image/png": "[encoded data removed]",
      "text/plain": [
       "<Figure size 640x480 with 1 Axes>"
      ]
     },
     "metadata": {},
     "output_type": "display_data"
    }
   ],
   "source": [
    "# roughly check distribution\n",
    "raw_data_transformed['talent_salary_bin'].value_counts().sort_index().plot(kind='bar')"
   ]
  },
  {
   "cell_type": "code",
   "execution_count": 101,
   "id": "d5e64ed8-1b9c-40b5-90c0-3545a565fa27",
   "metadata": {},
   "outputs": [
    {
     "data": {
      "text/plain": [
       "<Axes: xlabel='job_max_salary_bin'>"
      ]
     },
     "execution_count": 101,
     "metadata": {},
     "output_type": "execute_result"
    },
    {
     "data": {
      "image/png": "[encoded data removed]",
      "text/plain": [
       "<Figure size 640x480 with 1 Axes>"
      ]
     },
     "metadata": {},
     "output_type": "display_data"
    }
   ],
   "source": [
    "raw_data_transformed['job_max_salary_bin'].value_counts().sort_index().plot(kind='bar')"
   ]
  },
  {
   "cell_type": "markdown",
   "id": "ec9653da-5c2c-448f-b3cd-33dc22a6f379",
   "metadata": {},
   "source": [
    "## 3.2 degree features"
   ]
  },
  {
   "cell_type": "code",
   "execution_count": 57,
   "id": "94114a90-2aad-4541-b15d-57ba1a19bfee",
   "metadata": {},
   "outputs": [
    {
     "name": "stdout",
     "output_type": "stream",
     "text": [
      "Unique talent degree: ['bachelor' 'master' 'none' 'apprenticeship' 'doctorate']\n",
      "Unique job min degree: ['none' 'bachelor' 'master' 'apprenticeship' 'doctorate']\n"
     ]
    }
   ],
   "source": [
    "# degree_match_binary\n",
    "# see if the talent's highest degree is met for the min degree requirements for the job\n",
    "# but we first need to map the degree string to labels\n",
    "\n",
    "unique_talent_degree = raw_data['talent.degree'].unique()\n",
    "unique_job_degree = raw_data['job.min_degree'].unique()\n",
    "\n",
    "print(\"Unique talent degree:\", unique_talent_degree)\n",
    "print(\"Unique job min degree:\", unique_job_degree)"
   ]
  },
  {
   "cell_type": "code",
   "execution_count": 53,
   "id": "0299f023-c40c-42b1-93fd-22705e158803",
   "metadata": {},
   "outputs": [],
   "source": [
    "# define the mapping\n",
    "degree_mapping = {\n",
    "    'none': 0,\n",
    "    'apprenticeship': 1,\n",
    "    'bachelor': 2,\n",
    "    'master': 3,\n",
    "    'doctorate': 4\n",
    "}\n",
    "\n",
    "raw_data_transformed = raw_data_transformed.assign(\n",
    "    talent_degree_label=lambda df: df['talent.degree'].map(degree_mapping),\n",
    "    job_min_degree_label=lambda df: df['job.min_degree'].map(degree_mapping)\n",
    ")"
   ]
  },
  {
   "cell_type": "code",
   "execution_count": 54,
   "id": "cacca579-935f-419b-ad5b-b5ce151edd74",
   "metadata": {},
   "outputs": [],
   "source": [
    "raw_data_transformed = raw_data_transformed.assign(\n",
    "    degree_match_binary=lambda df: df['talent_degree_label'] >= df['job_min_degree_label']\n",
    ")"
   ]
  },
  {
   "cell_type": "code",
   "execution_count": 70,
   "id": "d722fcbb-3188-4a1b-81c5-c4bf5944b35d",
   "metadata": {},
   "outputs": [
    {
     "data": {
      "text/plain": [
       "degree_match_binary  label\n",
       "False                False    1.000000\n",
       "True                 True     0.709723\n",
       "                     False    0.290277\n",
       "Name: proportion, dtype: float64"
      ]
     },
     "execution_count": 70,
     "metadata": {},
     "output_type": "execute_result"
    }
   ],
   "source": [
    "# roughly check distribution, make sense on if degree is not a match, then 100% not a good match\n",
    "raw_data_transformed.groupby('degree_match_binary')['label'].value_counts(normalize=True)"
   ]
  },
  {
   "cell_type": "markdown",
   "id": "13f0b58a-bda9-4e23-b3d4-0f3c5201e872",
   "metadata": {},
   "source": [
    "## 3.3 seniorities features"
   ]
  },
  {
   "cell_type": "code",
   "execution_count": 56,
   "id": "aaf191cc-471f-4920-a24f-d04853cab57d",
   "metadata": {},
   "outputs": [
    {
     "name": "stdout",
     "output_type": "stream",
     "text": [
      "Unique talent seniorities: ['junior' 'senior' 'midlevel' 'none']\n",
      "Unique job seniorities: ['junior' 'midlevel' 'senior' 'none']\n"
     ]
    }
   ],
   "source": [
    "# seniority_match_binary: see whether the talent's seniority is with the job seniority\n",
    "# seniority_exceed_binary: see whether the talent's seniority is above the job seniority\n",
    "unique_talent_seniorities = raw_data['talent.seniority'].unique()\n",
    "unique_job_seniorities = raw_data['job.seniorities'].explode().unique()\n",
    "\n",
    "print(\"Unique talent seniorities:\", unique_talent_seniorities)\n",
    "print(\"Unique job seniorities:\", unique_job_seniorities)"
   ]
  },
  {
   "cell_type": "code",
   "execution_count": 59,
   "id": "3a99e987-2662-4cf9-a5cc-8872e0187e47",
   "metadata": {},
   "outputs": [],
   "source": [
    "seniority_mapping = {\n",
    "    'none': 0,\n",
    "    'junior': 1,\n",
    "    'midlevel': 2,\n",
    "    'senior': 3\n",
    "}"
   ]
  },
  {
   "cell_type": "code",
   "execution_count": 60,
   "id": "11fdc9c4-51b7-4dcb-938f-03598a9d7804",
   "metadata": {},
   "outputs": [],
   "source": [
    "raw_data_transformed = raw_data_transformed.assign(\n",
    "    talent_seniority_label=lambda df: df['talent.seniority'].map(seniority_mapping),\n",
    "    job_seniority_labels=lambda df: df['job.seniorities'].apply(\n",
    "        lambda x: [seniority_mapping[seniority] for seniority in x]\n",
    "    )\n",
    ")"
   ]
  },
  {
   "cell_type": "code",
   "execution_count": 61,
   "id": "40a5546c-8789-4e0e-b541-22e4c24345b0",
   "metadata": {},
   "outputs": [],
   "source": [
    "raw_data_transformed = raw_data_transformed.assign(\n",
    "    seniority_match_binary=lambda df: df.apply(\n",
    "        lambda row: row['talent_seniority_label'] in row['job_seniority_labels'], axis=1\n",
    "    ),\n",
    "\n",
    "    seniority_exceed_binary=lambda df: df.apply(\n",
    "        lambda row: all(row['talent_seniority_label'] > label for label in row['job_seniority_labels']), axis=1\n",
    "    )\n",
    ")"
   ]
  },
  {
   "cell_type": "code",
   "execution_count": 71,
   "id": "0e400ce2-ac84-4298-8a2c-d36f6b618123",
   "metadata": {},
   "outputs": [
    {
     "data": {
      "text/plain": [
       "seniority_match_binary  label\n",
       "False                   False    1.000000\n",
       "True                    True     0.705219\n",
       "                        False    0.294781\n",
       "Name: proportion, dtype: float64"
      ]
     },
     "execution_count": 71,
     "metadata": {},
     "output_type": "execute_result"
    }
   ],
   "source": [
    "# roughly check distribution, make sense -> if seniority not a match then label is not a match\n",
    "raw_data_transformed.groupby('seniority_match_binary')['label'].value_counts(normalize=True)"
   ]
  },
  {
   "cell_type": "code",
   "execution_count": 72,
   "id": "bfd26334-4101-47dc-9ce4-0980a2b9eb2e",
   "metadata": {},
   "outputs": [
    {
     "data": {
      "text/plain": [
       "seniority_exceed_binary  label\n",
       "False                    True     0.539374\n",
       "                         False    0.460626\n",
       "True                     False    1.000000\n",
       "Name: proportion, dtype: float64"
      ]
     },
     "execution_count": 72,
     "metadata": {},
     "output_type": "execute_result"
    }
   ],
   "source": [
    "# okay, seems this feature is useless, having seniority above the job requirement is not helpful\n",
    "raw_data_transformed.groupby('seniority_exceed_binary')['label'].value_counts(normalize=True)"
   ]
  },
  {
   "cell_type": "markdown",
   "id": "2bf9197c-35b7-48d0-8a5c-59f76c11766f",
   "metadata": {},
   "source": [
    "## 3.4 roles features"
   ]
  },
  {
   "cell_type": "code",
   "execution_count": null,
   "id": "ad506fcd-024c-4b73-8641-ac5c8e14c36e",
   "metadata": {},
   "outputs": [],
   "source": [
    "# job_roles_match_binary\n",
    "# see if any of the job roles in the job is in talent's interested job roles."
   ]
  },
  {
   "cell_type": "code",
   "execution_count": 74,
   "id": "d66ec3c0-175b-430c-a865-82b0ee8994ea",
   "metadata": {},
   "outputs": [],
   "source": [
    "def job_roles_match(talent_roles, job_roles):\n",
    "    \"\"\"check if there are intersections with talent and job roles\"\"\"\n",
    "    return bool(set(talent_roles) & set(job_roles))\n",
    "\n",
    "raw_data_transformed = raw_data_transformed.assign(\n",
    "    job_roles_match_binary=lambda df: df.apply(\n",
    "        lambda row: job_roles_match(row['talent.job_roles'], row['job.job_roles']), axis=1\n",
    "    )\n",
    ")"
   ]
  },
  {
   "cell_type": "code",
   "execution_count": 75,
   "id": "4988309f-b66f-4136-9549-532a3b544e82",
   "metadata": {},
   "outputs": [
    {
     "data": {
      "text/plain": [
       "job_roles_match_binary  label\n",
       "False                   False    1.000000\n",
       "True                    True     0.725163\n",
       "                        False    0.274837\n",
       "Name: proportion, dtype: float64"
      ]
     },
     "execution_count": 75,
     "metadata": {},
     "output_type": "execute_result"
    }
   ],
   "source": [
    "# roughly check distribution, make sense\n",
    "raw_data_transformed.groupby('job_roles_match_binary')['label'].value_counts(normalize=True)"
   ]
  },
  {
   "cell_type": "markdown",
   "id": "fa33c5cf-f6ec-4cab-b807-967ec327b5f3",
   "metadata": {},
   "source": [
    "## 3.5 language features"
   ]
  },
  {
   "cell_type": "code",
   "execution_count": 82,
   "id": "f4197ddf-77a1-416b-aff2-3b4c5d6aedb3",
   "metadata": {},
   "outputs": [],
   "source": [
    "# language_must_have_match_binary: see if the talent meets the must have language requirements in jobs\n",
    "# language_good2have_count: for those languages in job that are not must have, count how many of them are in talent's language pool (and meet requirements)\n",
    "rating_mapping = {\n",
    "    'A1': 1,\n",
    "    'A2': 2,\n",
    "    'B1': 3,\n",
    "    'B2': 4,\n",
    "    'C1': 5,\n",
    "    'C2': 6\n",
    "}\n",
    "\n",
    "def must_have_languages_match(talent_languages, job_languages):\n",
    "    \"\"\"check if the must have languages in job are in talent's language pool\"\"\"\n",
    "    must_have_dict = {lang['title']: rating_mapping[lang['rating']] for lang in job_languages if lang['must_have']}\n",
    "    talent_language_dict = {lang['title']: rating_mapping[lang['rating']] for lang in talent_languages}\n",
    "\n",
    "    for title, required_rating in must_have_dict.items():\n",
    "        if title not in talent_language_dict or talent_language_dict[title] < required_rating:\n",
    "            return False\n",
    "    return True\n",
    "\n",
    "\n",
    "def count_good2have_languages(talent_languages, job_languages):\n",
    "    \"\"\"count how many non-must have languages are in talent's language pool\"\"\"\n",
    "    good2have_dict = {lang['title']: rating_mapping[lang['rating']] for lang in job_languages if not lang['must_have']}\n",
    "    talent_language_dict = {lang['title']: rating_mapping[lang['rating']] for lang in talent_languages}\n",
    "    \n",
    "    count = 0\n",
    "    for title, required_rating in good2have_dict.items():\n",
    "        if title in talent_language_dict and talent_language_dict[title] >= required_rating:\n",
    "            count += 1\n",
    "    \n",
    "    return count"
   ]
  },
  {
   "cell_type": "code",
   "execution_count": 83,
   "id": "c358a5cd-cd60-4b59-bba1-1755061e1fef",
   "metadata": {},
   "outputs": [],
   "source": [
    "raw_data_transformed = raw_data_transformed.assign(\n",
    "    language_must_have_match_binary=lambda df: df.apply(\n",
    "        lambda row: must_have_languages_match(row['talent.languages'], row['job.languages']), axis=1\n",
    "    ),\n",
    "    language_good2have_count=lambda df: df.apply(\n",
    "        lambda row: count_good2have_languages(row['talent.languages'], row['job.languages']), axis=1\n",
    "    )\n",
    ")"
   ]
  },
  {
   "cell_type": "code",
   "execution_count": 84,
   "id": "ae1bd07c-009b-440c-88ab-b81f38f89a8f",
   "metadata": {},
   "outputs": [
    {
     "data": {
      "text/plain": [
       "language_must_have_match_binary  label\n",
       "False                            False    1.000000\n",
       "True                             True     0.694927\n",
       "                                 False    0.305073\n",
       "Name: proportion, dtype: float64"
      ]
     },
     "execution_count": 84,
     "metadata": {},
     "output_type": "execute_result"
    }
   ],
   "source": [
    "# sanity check on distribution, also make sense\n",
    "raw_data_transformed.groupby('language_must_have_match_binary')['label'].value_counts(normalize=True)"
   ]
  },
  {
   "cell_type": "code",
   "execution_count": 86,
   "id": "bf4ab25d-ec99-40fa-b875-462a6fe5929a",
   "metadata": {},
   "outputs": [
    {
     "data": {
      "text/plain": [
       "language_good2have_count  label\n",
       "0                         False    0.516308\n",
       "                          True     0.483692\n",
       "1                         True     0.560440\n",
       "                          False    0.439560\n",
       "2                         True     0.909091\n",
       "                          False    0.090909\n",
       "Name: proportion, dtype: float64"
      ]
     },
     "execution_count": 86,
     "metadata": {},
     "output_type": "execute_result"
    }
   ],
   "source": [
    "# sanity check on distribution, fair\n",
    "raw_data_transformed.groupby('language_good2have_count')['label'].value_counts(normalize=True)"
   ]
  },
  {
   "cell_type": "markdown",
   "id": "a5bd08e4-d7c1-4284-9a09-5bdc7681d681",
   "metadata": {},
   "source": [
    "## 3.6 other minor sanity check"
   ]
  },
  {
   "cell_type": "code",
   "execution_count": 88,
   "id": "14714a30-dde6-4d47-aadb-375695b3e714",
   "metadata": {},
   "outputs": [
    {
     "data": {
      "text/plain": [
       "job_roles_match_binary\n",
       "True    1.0\n",
       "Name: proportion, dtype: float64"
      ]
     },
     "execution_count": 88,
     "metadata": {},
     "output_type": "execute_result"
    }
   ],
   "source": [
    "# for all matched pairs (label == true), check if all job_roles are in talent's interested roles\n",
    "# why? -> if it is not the case, then the matching based on job_roles feels bit loose\n",
    "\n",
    "raw_data_transformed[raw_data_transformed['label']]['job_roles_match_binary'].value_counts(normalize=True)"
   ]
  },
  {
   "cell_type": "code",
   "execution_count": 89,
   "id": "0c35fdf0-68ce-4d22-8ea0-a6b7a5ffab50",
   "metadata": {},
   "outputs": [
    {
     "data": {
      "text/plain": [
       "salary_match_binary\n",
       "True     0.813\n",
       "False    0.187\n",
       "Name: proportion, dtype: float64"
      ]
     },
     "execution_count": 89,
     "metadata": {},
     "output_type": "execute_result"
    }
   ],
   "source": [
    "# for all matched pairs (label == true), check if all job max salary >= talent's expected salary\n",
    "# why? -> if it is not the case, then it means that talent can sometimes accept the job with salary lower than their expectations, then the salary_difference feature can make sense\n",
    "\n",
    "raw_data_transformed[raw_data_transformed['label']]['salary_match_binary'].value_counts(normalize=True)"
   ]
  },
  {
   "cell_type": "markdown",
   "id": "7466c20c-c57e-4d60-84fd-833b58d50766",
   "metadata": {},
   "source": [
    "# 4. correlation analysis"
   ]
  },
  {
   "cell_type": "code",
   "execution_count": 103,
   "id": "612bc76f-2b9b-4807-9987-6d598834cc4e",
   "metadata": {},
   "outputs": [],
   "source": [
    "import matplotlib.pyplot as plt\n",
    "import seaborn as sns"
   ]
  },
  {
   "cell_type": "code",
   "execution_count": 106,
   "id": "86822457-2269-499e-8ee4-3d50b6f0cefd",
   "metadata": {},
   "outputs": [
    {
     "data": {
      "image/png": "[encoded data removed]",
      "text/plain": [
       "<Figure size 1600x900 with 2 Axes>"
      ]
     },
     "metadata": {},
     "output_type": "display_data"
    }
   ],
   "source": [
    "# we do see the strong positive and negative correlations with the label from those features\n",
    "# which means that choosing a basic linear model like logistic regression might be a good start\n",
    "# but at the same time we see that these features themselves are also strongly correlated to each other, which can cause problems like multicollinearity (overfitting, unstable coefficients, etc)\n",
    "# in real projects, we might need to further do feature ablation/selection afterwards\n",
    "# here let's first try with\n",
    "# 1. adding all those features\n",
    "# 2. add the original features themselves as well in case that the model can capture other correlations from talent/job side as well\n",
    "# 3. add regularization to mitigate overfitting problem from multicollinearity\n",
    "\n",
    "selected_cols = [\n",
    "    'salary_match_binary',\n",
    "    'salary_diff',\n",
    "    'degree_match_binary',\n",
    "    'seniority_match_binary',\n",
    "    'seniority_exceed_binary',\n",
    "    'job_roles_match_binary',\n",
    "    'language_must_have_match_binary',\n",
    "    'language_good2have_count',\n",
    "    'label'\n",
    "]\n",
    "correlation_matrix = raw_data_transformed[selected_cols].corr(method='pearson') # linear\n",
    "\n",
    "plt.figure(figsize=(16, 9))\n",
    "sns.heatmap(correlation_matrix, annot=True, fmt='.2f', cmap='coolwarm')\n",
    "plt.title('Correlation Matrix of Selected Features')\n",
    "plt.show()"
   ]
  },
  {
   "cell_type": "code",
   "execution_count": null,
   "id": "a69b4187-04a0-4532-97b2-ad5ead5a42e8",
   "metadata": {},
   "outputs": [],
   "source": []
  },
  {
   "cell_type": "code",
   "execution_count": null,
   "id": "a1cf1ee9-4e9d-4e36-be23-da8ea2813331",
   "metadata": {},
   "outputs": [],
   "source": []
  }
 ],
 "metadata": {
  "kernelspec": {
   "display_name": "Python 3 (ipykernel)",
   "language": "python",
   "name": "python3"
  },
  "language_info": {
   "codemirror_mode": {
    "name": "ipython",
    "version": 3
   },
   "file_extension": ".py",
   "mimetype": "text/x-python",
   "name": "python",
   "nbconvert_exporter": "python",
   "pygments_lexer": "ipython3",
   "version": "3.11.7"
  }
 },
 "nbformat": 4,
 "nbformat_minor": 5
}
